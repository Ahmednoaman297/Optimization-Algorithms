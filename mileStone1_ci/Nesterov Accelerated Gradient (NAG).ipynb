{
 "cells": [
  {
   "cell_type": "markdown",
   "id": "20f58853",
   "metadata": {},
   "source": [
    "## Importing the libraries"
   ]
  },
  {
   "cell_type": "code",
   "execution_count": null,
   "id": "5e03a2ed",
   "metadata": {},
   "outputs": [],
   "source": [
    "import numpy as np\n",
    "import pandas as pd\n",
    "import tensorflow as tf\n",
    "import time \n",
    "import matplotlib.pyplot as plt\n",
    "import seaborn as sns\n",
    "from sklearn.metrics import confusion_matrix, accuracy_score ,classification_report\n",
    "from tensorflow.keras import datasets, layers,models\n",
    "from keras.layers import Input  # Import Input function\n"
   ]
  },
  {
   "cell_type": "markdown",
   "id": "c051d52f",
   "metadata": {},
   "source": [
    "## Splitting the dataset into the Training set and Test set"
   ]
  },
  {
   "cell_type": "code",
   "execution_count": null,
   "id": "fa3d067e",
   "metadata": {},
   "outputs": [],
   "source": [
    "(X_train, y_train), (X_test, y_test) =datasets.cifar10.load_data()"
   ]
  },
  {
   "cell_type": "markdown",
   "id": "765eedaa",
   "metadata": {},
   "source": [
    "## Normalize pixel values to range [0, 1]\n"
   ]
  },
  {
   "cell_type": "code",
   "execution_count": null,
   "id": "2b1c5ee4",
   "metadata": {},
   "outputs": [],
   "source": [
    "X_train = X_train.astype('float32') / 255.0\n",
    "X_test = X_test.astype('float32') / 255.0"
   ]
  },
  {
   "cell_type": "markdown",
   "id": "243ae6ad",
   "metadata": {},
   "source": [
    "## Define a shallow network\n"
   ]
  },
  {
   "cell_type": "code",
   "execution_count": null,
   "id": "72cebf55",
   "metadata": {},
   "outputs": [],
   "source": [
    "# Define the model\n",
    "model = models.Sequential([\n",
    "    Input(shape=(32, 32, 3)),               # Input layer specifying input shape\n",
    "    layers.Flatten(),                      # Flatten the input image\n",
    "    layers.Dense(512, activation='relu'),  # Single hidden layer with 512 neurons\n",
    "    layers.Dense(10, activation='softmax') # Output layer for 10 classes\n",
    "])"
   ]
  },
  {
   "cell_type": "markdown",
   "id": "883b0ae0",
   "metadata": {},
   "source": [
    "## Compile the model with NAG optimizer\n"
   ]
  },
  {
   "cell_type": "code",
   "execution_count": null,
   "id": "4538b17d",
   "metadata": {},
   "outputs": [],
   "source": [
    "optimizer = tf.keras.optimizers.SGD(learning_rate=0.001, momentum=0.9, nesterov=True)\n",
    "model.compile(optimizer=optimizer, \n",
    "              loss='sparse_categorical_crossentropy', \n",
    "              metrics=['accuracy'])\n"
   ]
  },
  {
   "cell_type": "markdown",
   "id": "e670aa46-cfb1-4381-8418-db27818d11d4",
   "metadata": {},
   "source": [
    "##  Train the model\n"
   ]
  },
  {
   "cell_type": "code",
   "execution_count": null,
   "id": "4ac9e7bd",
   "metadata": {
    "scrolled": true
   },
   "outputs": [],
   "source": [
    "start_time = time.time()\n",
    "history = model.fit(X_train, y_train, epochs=20, batch_size=64, validation_split=0.2)\n",
    "end_time = time.time()\n",
    "training_time = end_time - start_time\n",
    "print(f\"\\nTotal Training Time: {training_time:.2f} seconds\")"
   ]
  },
  {
   "cell_type": "markdown",
   "id": "85b58e53",
   "metadata": {},
   "source": [
    "## Making the classification Report"
   ]
  },
  {
   "cell_type": "code",
   "execution_count": null,
   "id": "6bda0cf6",
   "metadata": {},
   "outputs": [],
   "source": [
    "y_pred = model.predict(X_test)\n",
    "y_pred_classes = y_pred.argmax(axis=1)  # Convert probabilities to class labels\n",
    "\n",
    "print(\"classification Report:  \\n\",classification_report(y_test,y_pred_classes))\n",
    "print(\"Nesterov Accuracy:  \\n\",accuracy_score(y_test,y_pred_classes))"
   ]
  },
  {
   "cell_type": "markdown",
   "id": "40802fa8",
   "metadata": {},
   "source": [
    "## Visualize Training History (Accuracy and Loss)\n"
   ]
  },
  {
   "cell_type": "code",
   "execution_count": null,
   "id": "0f851cf5",
   "metadata": {},
   "outputs": [],
   "source": [
    "# Plot training & validation accuracy\n",
    "plt.figure(figsize=(12, 5))\n",
    "\n",
    "# Accuracy plot\n",
    "plt.subplot(1, 2, 1)\n",
    "plt.plot(history.history['accuracy'], label='Training Accuracy')\n",
    "plt.plot(history.history['val_accuracy'], label='Validation Accuracy')\n",
    "plt.title('Accuracy Over Epochs')\n",
    "plt.xlabel('Epochs')\n",
    "plt.ylabel('Accuracy')\n",
    "plt.legend()\n",
    "\n",
    "# Loss plot\n",
    "plt.subplot(1, 2, 2)\n",
    "plt.plot(history.history['loss'], label='Training Loss')\n",
    "plt.plot(history.history['val_loss'], label='Validation Loss')\n",
    "plt.title('Loss Over Epochs')\n",
    "plt.xlabel('Epochs')\n",
    "plt.ylabel('Loss')\n",
    "plt.legend()\n",
    "\n",
    "plt.tight_layout()\n",
    "plt.show()\n"
   ]
  },
  {
   "cell_type": "markdown",
   "id": "bc5bab53",
   "metadata": {},
   "source": [
    "## Confusion Matrix Visualization"
   ]
  },
  {
   "cell_type": "code",
   "execution_count": null,
   "id": "86052712",
   "metadata": {},
   "outputs": [],
   "source": [
    "# Compute the confusion matrix\n",
    "cm = confusion_matrix(y_test, y_pred_classes)\n",
    "\n",
    "# Create a heatmap for the confusion matrix\n",
    "plt.figure(figsize=(10, 8))\n",
    "sns.heatmap(cm, annot=True, fmt=\"d\", cmap=\"Blues\", xticklabels=np.arange(10), yticklabels=np.arange(10))\n",
    "plt.title('Confusion Matrix')\n",
    "plt.xlabel('Predicted Label')\n",
    "plt.ylabel('True Label')\n",
    "plt.show()\n",
    "\n"
   ]
  },
  {
   "cell_type": "code",
   "execution_count": null,
   "id": "7d7b695f-fa39-4a13-992f-97f3fdc4af29",
   "metadata": {},
   "outputs": [],
   "source": []
  }
 ],
 "metadata": {
  "kernelspec": {
   "display_name": "Python 3 (ipykernel)",
   "language": "python",
   "name": "python3"
  },
  "language_info": {
   "codemirror_mode": {
    "name": "ipython",
    "version": 3
   },
   "file_extension": ".py",
   "mimetype": "text/x-python",
   "name": "python",
   "nbconvert_exporter": "python",
   "pygments_lexer": "ipython3",
   "version": "3.12.4"
  }
 },
 "nbformat": 4,
 "nbformat_minor": 5
}
